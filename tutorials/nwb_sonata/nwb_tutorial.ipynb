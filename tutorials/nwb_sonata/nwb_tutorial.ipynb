{
 "cells": [
  {
   "cell_type": "markdown",
   "metadata": {},
   "source": [
    "# Sonata and NWB\n",
    "\n",
    "The sonata [simulation results format](https://github.com/AllenInstitute/sonata/blob/master/docs/SONATA_DEVELOPER_GUIDE.md#output-file-formats) are compatable with NWB, meaning you can use pynwb and matnwb APIs to read sonata files generated during the run of your simulation. Here we will show how to use pynwb to read sonata files.\n",
    "\n",
    "Doing so you'll need [pynwb](https://github.com/NeurodataWithoutBorders/pynwb) and the [ndx-simulation-output](https://github.com/bendichter/ndx-simulation-output) nwb extension, a format developed to be compatable with sonata multi-compartment files. The easiest way to install both is with the pip command:\n",
    "```bash\n",
    "pip install ndx-simulation-output\n",
    "```\n"
   ]
  },
  {
   "cell_type": "markdown",
   "metadata": {},
   "source": [
    "## Converting sonata to pynwb\n",
    "\n",
    "To start with we generate the required simulation output hdf5 files using one of the many tools that support sonata. The [examples page](https://github.com/AllenInstitute/sonata/tree/master/examples) contains a number of networks and scripts/tutorials on how to run a simulation using your prefered tools. We've also included some pre-generated examples in the *example_data/* folder. In particularly there are three example files:\n",
    " * membrane_potential.h5 - An example multicompartment report\n",
    " * spikes.h5 - An example spikes report\n",
    " * ecp.h5 - An example of extracelluar multi-channel recording\n",
    "\n",
    "We will save these in the nwb file 'simulation_results.nwb'"
   ]
  },
  {
   "cell_type": "code",
   "execution_count": 1,
   "metadata": {},
   "outputs": [
    {
     "name": "stderr",
     "output_type": "stream",
     "text": [
      "reading continuous data: 100%|██████████| 5/5 [00:00<00:00, 2661.70it/s]\n",
      "reading units: 100%|██████████| 5/5 [00:00<00:00, 1718.84it/s]\n"
     ]
    },
    {
     "name": "stdout",
     "output_type": "stream",
     "text": [
      "True\n"
     ]
    }
   ],
   "source": [
    "import os\n",
    "from ndx_simulation_output.io import sonata2nwb\n",
    "sonata2nwb(data_path=['example_data/membrane_potential.h5',\n",
    "                      'example_data/spikes.h5',\n",
    "                      'example_data/ecp.h5'], \n",
    "           save_path='simulation_results.nwb',\n",
    "           electrodes_file='example_data/electrodes.csv'\n",
    "          )\n",
    "\n",
    "print(os.path.exists('simulation_results.nwb'))\n"
   ]
  },
  {
   "cell_type": "markdown",
   "metadata": {},
   "source": [
    "## Reading Compartment Reports\n",
    "\n",
    "Next use pynwb to read in our converted nwb file"
   ]
  },
  {
   "cell_type": "code",
   "execution_count": 2,
   "metadata": {},
   "outputs": [],
   "source": [
    "from pynwb import NWBHDF5IO\n",
    "io = NWBHDF5IO('simulation_results.nwb', mode='r')\n",
    "nwb = io.read()"
   ]
  },
  {
   "cell_type": "markdown",
   "metadata": {},
   "source": [
    "The compartment reports are stored under acquisitions group. Here we can see the nwb file contains the **membrane_potential** data (there is also an ElectrialSeries group that we will use below for reading ecp results). "
   ]
  },
  {
   "cell_type": "code",
   "execution_count": 3,
   "metadata": {},
   "outputs": [
    {
     "name": "stdout",
     "output_type": "stream",
     "text": [
      "{'ElectricalSeries': \n",
      "ElectricalSeries <class 'pynwb.ecephys.ElectricalSeries'>\n",
      "Fields:\n",
      "  comments: no comments\n",
      "  conversion: 1.0\n",
      "  data: <HDF5 dataset \"data\": shape (1000, 15), type \"<f8\">\n",
      "  description: no description\n",
      "  electrodes: electrodes <class 'pynwb.core.DynamicTableRegion'>\n",
      "  num_samples: 1000\n",
      "  rate: 10000.0\n",
      "  resolution: 0.0\n",
      "  starting_time: 0.0\n",
      "  starting_time_unit: Seconds\n",
      "  unit: volt\n",
      ", 'membrane_potential': \n",
      "membrane_potential <class 'abc.CompartmentSeries'>\n",
      "Fields:\n",
      "  comments: no comments\n",
      "  compartments: compartments <class 'ndx_simulation_output.simulation_output.Compartments'>\n",
      "  conversion: 1.0\n",
      "  data: <HDF5 dataset \"data\": shape (1000, 361), type \"<f8\">\n",
      "  description: no description\n",
      "  num_samples: 1000\n",
      "  rate: 10000.0\n",
      "  resolution: 0.0\n",
      "  starting_time: 0.0\n",
      "  starting_time_unit: Seconds\n",
      "  unit: mV\n",
      "}\n",
      "node_ids: [0 1 2 3 4]\n"
     ]
    }
   ],
   "source": [
    "print(nwb.acquisition)\n",
    "\n",
    "vm_report = nwb.acquisition['membrane_potential']\n",
    "print('node_ids: {}'.format(vm_report.compartments.id.data[()]))"
   ]
  },
  {
   "cell_type": "markdown",
   "metadata": {},
   "source": [
    "For a given node we can find the associated compartment labels, their positions, and the time traces during the simulation:"
   ]
  },
  {
   "cell_type": "code",
   "execution_count": 4,
   "metadata": {},
   "outputs": [
    {
     "name": "stdout",
     "output_type": "stream",
     "text": [
      "node_id: 1\n",
      "  compartment (element) labels: [ 0  1  2  3  4  5  6  7  8  9 10 11 12 13 14 15 16 17 18 19 20 21 22 23\n",
      " 24 25 26 27 28 29 30 31 32 33 34 35 36 37 38 39 40 41 42 43 44 45 46 47\n",
      " 48 49]\n",
      "  positions: [0. 0. 0. 0. 0. 0. 0. 0. 0. 0. 0. 0. 0. 0. 0. 0. 0. 0. 0. 0. 0. 0. 0. 0.\n",
      " 0. 0. 0. 0. 0. 0. 0. 0. 0. 0. 0. 0. 0. 0. 0. 0. 0. 0. 0. 0. 0. 0. 0. 0.\n",
      " 0. 0.]\n",
      " data steps x compartments: 1000 x 50\n",
      "[[1.    1.    1.    ... 1.    1.    1.   ]\n",
      " [1.001 1.001 1.001 ... 1.001 1.001 1.001]\n",
      " [1.002 1.002 1.002 ... 1.002 1.002 1.002]\n",
      " ...\n",
      " [1.997 1.997 1.997 ... 1.997 1.997 1.997]\n",
      " [1.998 1.998 1.998 ... 1.998 1.998 1.998]\n",
      " [1.999 1.999 1.999 ... 1.999 1.999 1.999]]\n"
     ]
    }
   ],
   "source": [
    "node_id, element_ids, positions = nwb.acquisition['membrane_potential'].compartments[1]\n",
    "\n",
    "unit_indices = vm_report.find_compartments(1)\n",
    "vm_traces = vm_report.data[:, unit_indices][()]\n",
    "\n",
    "print('node_id: {}'.format(node_id))\n",
    "print('  compartment (element) labels: {}'.format(element_ids))\n",
    "print('  positions: {}'.format(positions))\n",
    "print(' data steps x compartments: {} x {}'.format(vm_traces.shape[0], vm_traces.shape[1]))\n",
    "print(vm_traces)"
   ]
  },
  {
   "cell_type": "markdown",
   "metadata": {},
   "source": [
    "## Reading Spike Reports\n",
    "\n",
    "We can also fetch the spike time simulation output for each recorded node_id"
   ]
  },
  {
   "cell_type": "code",
   "execution_count": 5,
   "metadata": {},
   "outputs": [
    {
     "data": {
      "text/html": [
       "<div>\n",
       "<style scoped>\n",
       "    .dataframe tbody tr th:only-of-type {\n",
       "        vertical-align: middle;\n",
       "    }\n",
       "\n",
       "    .dataframe tbody tr th {\n",
       "        vertical-align: top;\n",
       "    }\n",
       "\n",
       "    .dataframe thead th {\n",
       "        text-align: right;\n",
       "    }\n",
       "</style>\n",
       "<table border=\"1\" class=\"dataframe\">\n",
       "  <thead>\n",
       "    <tr style=\"text-align: right;\">\n",
       "      <th></th>\n",
       "      <th>spike_times</th>\n",
       "    </tr>\n",
       "    <tr>\n",
       "      <th>id</th>\n",
       "      <th></th>\n",
       "    </tr>\n",
       "  </thead>\n",
       "  <tbody>\n",
       "    <tr>\n",
       "      <th>0</th>\n",
       "      <td>[46.44830098095446, 73.62532407151554, 99.6196...</td>\n",
       "    </tr>\n",
       "    <tr>\n",
       "      <th>1</th>\n",
       "      <td>[2.8285827476543615, 34.98136107011318, 54.701...</td>\n",
       "    </tr>\n",
       "    <tr>\n",
       "      <th>2</th>\n",
       "      <td>[38.30268119285648, 39.31566714213238, 66.6219...</td>\n",
       "    </tr>\n",
       "    <tr>\n",
       "      <th>3</th>\n",
       "      <td>[18.39203560767911, 50.4658832902191, 92.16889...</td>\n",
       "    </tr>\n",
       "    <tr>\n",
       "      <th>4</th>\n",
       "      <td>[28.938474810891595, 58.59423608546243, 63.637...</td>\n",
       "    </tr>\n",
       "  </tbody>\n",
       "</table>\n",
       "</div>"
      ],
      "text/plain": [
       "                                          spike_times\n",
       "id                                                   \n",
       "0   [46.44830098095446, 73.62532407151554, 99.6196...\n",
       "1   [2.8285827476543615, 34.98136107011318, 54.701...\n",
       "2   [38.30268119285648, 39.31566714213238, 66.6219...\n",
       "3   [18.39203560767911, 50.4658832902191, 92.16889...\n",
       "4   [28.938474810891595, 58.59423608546243, 63.637..."
      ]
     },
     "execution_count": 5,
     "metadata": {},
     "output_type": "execute_result"
    }
   ],
   "source": [
    "nwb.units.to_dataframe()\n"
   ]
  },
  {
   "cell_type": "code",
   "execution_count": 9,
   "metadata": {},
   "outputs": [
    {
     "name": "stdout",
     "output_type": "stream",
     "text": [
      "spike times for unit 0\n"
     ]
    },
    {
     "data": {
      "text/plain": [
       "array([46.44830098, 73.62532407, 99.61962915])"
      ]
     },
     "execution_count": 9,
     "metadata": {},
     "output_type": "execute_result"
    }
   ],
   "source": [
    "# Get spikes for a single unit/node\n",
    "unit_id = 0\n",
    "print('spike times for unit {}'.format(unit_id))\n",
    "nwb.units['spike_times'][unit_id]"
   ]
  },
  {
   "cell_type": "markdown",
   "metadata": {},
   "source": [
    "## Reading Extracellular Reports\n",
    "\n",
    "Extracellular reports in NWB are saved using the [ecephys module](https://pynwb.readthedocs.io/en/stable/tutorials/domain/ecephys.html) and can be accessed like you would with real data.\n",
    "\n",
    "\n",
    "There are a number of ways to fetch information about the recording electrode channels, including as a pandas DataFrame"
   ]
  },
  {
   "cell_type": "code",
   "execution_count": 10,
   "metadata": {},
   "outputs": [
    {
     "data": {
      "text/html": [
       "<div>\n",
       "<style scoped>\n",
       "    .dataframe tbody tr th:only-of-type {\n",
       "        vertical-align: middle;\n",
       "    }\n",
       "\n",
       "    .dataframe tbody tr th {\n",
       "        vertical-align: top;\n",
       "    }\n",
       "\n",
       "    .dataframe thead th {\n",
       "        text-align: right;\n",
       "    }\n",
       "</style>\n",
       "<table border=\"1\" class=\"dataframe\">\n",
       "  <thead>\n",
       "    <tr style=\"text-align: right;\">\n",
       "      <th></th>\n",
       "      <th>x</th>\n",
       "      <th>y</th>\n",
       "      <th>z</th>\n",
       "      <th>imp</th>\n",
       "      <th>location</th>\n",
       "      <th>filtering</th>\n",
       "      <th>group</th>\n",
       "      <th>group_name</th>\n",
       "    </tr>\n",
       "    <tr>\n",
       "      <th>id</th>\n",
       "      <th></th>\n",
       "      <th></th>\n",
       "      <th></th>\n",
       "      <th></th>\n",
       "      <th></th>\n",
       "      <th></th>\n",
       "      <th></th>\n",
       "      <th></th>\n",
       "    </tr>\n",
       "  </thead>\n",
       "  <tbody>\n",
       "    <tr>\n",
       "      <th>0</th>\n",
       "      <td>0.0</td>\n",
       "      <td>0.0</td>\n",
       "      <td>0.0</td>\n",
       "      <td>NaN</td>\n",
       "      <td>unknown</td>\n",
       "      <td>none</td>\n",
       "      <td>\\nsimulated_implant &lt;class 'pynwb.ecephys.Elec...</td>\n",
       "      <td>simulated_implant</td>\n",
       "    </tr>\n",
       "    <tr>\n",
       "      <th>1</th>\n",
       "      <td>0.0</td>\n",
       "      <td>1.0</td>\n",
       "      <td>0.0</td>\n",
       "      <td>NaN</td>\n",
       "      <td>unknown</td>\n",
       "      <td>none</td>\n",
       "      <td>\\nsimulated_implant &lt;class 'pynwb.ecephys.Elec...</td>\n",
       "      <td>simulated_implant</td>\n",
       "    </tr>\n",
       "    <tr>\n",
       "      <th>2</th>\n",
       "      <td>0.0</td>\n",
       "      <td>2.0</td>\n",
       "      <td>0.0</td>\n",
       "      <td>NaN</td>\n",
       "      <td>unknown</td>\n",
       "      <td>none</td>\n",
       "      <td>\\nsimulated_implant &lt;class 'pynwb.ecephys.Elec...</td>\n",
       "      <td>simulated_implant</td>\n",
       "    </tr>\n",
       "    <tr>\n",
       "      <th>3</th>\n",
       "      <td>0.0</td>\n",
       "      <td>3.0</td>\n",
       "      <td>0.0</td>\n",
       "      <td>NaN</td>\n",
       "      <td>unknown</td>\n",
       "      <td>none</td>\n",
       "      <td>\\nsimulated_implant &lt;class 'pynwb.ecephys.Elec...</td>\n",
       "      <td>simulated_implant</td>\n",
       "    </tr>\n",
       "    <tr>\n",
       "      <th>4</th>\n",
       "      <td>0.0</td>\n",
       "      <td>4.0</td>\n",
       "      <td>0.0</td>\n",
       "      <td>NaN</td>\n",
       "      <td>unknown</td>\n",
       "      <td>none</td>\n",
       "      <td>\\nsimulated_implant &lt;class 'pynwb.ecephys.Elec...</td>\n",
       "      <td>simulated_implant</td>\n",
       "    </tr>\n",
       "    <tr>\n",
       "      <th>5</th>\n",
       "      <td>0.0</td>\n",
       "      <td>5.0</td>\n",
       "      <td>0.0</td>\n",
       "      <td>NaN</td>\n",
       "      <td>unknown</td>\n",
       "      <td>none</td>\n",
       "      <td>\\nsimulated_implant &lt;class 'pynwb.ecephys.Elec...</td>\n",
       "      <td>simulated_implant</td>\n",
       "    </tr>\n",
       "    <tr>\n",
       "      <th>6</th>\n",
       "      <td>0.0</td>\n",
       "      <td>6.0</td>\n",
       "      <td>0.0</td>\n",
       "      <td>NaN</td>\n",
       "      <td>unknown</td>\n",
       "      <td>none</td>\n",
       "      <td>\\nsimulated_implant &lt;class 'pynwb.ecephys.Elec...</td>\n",
       "      <td>simulated_implant</td>\n",
       "    </tr>\n",
       "    <tr>\n",
       "      <th>7</th>\n",
       "      <td>0.0</td>\n",
       "      <td>7.0</td>\n",
       "      <td>0.0</td>\n",
       "      <td>NaN</td>\n",
       "      <td>unknown</td>\n",
       "      <td>none</td>\n",
       "      <td>\\nsimulated_implant &lt;class 'pynwb.ecephys.Elec...</td>\n",
       "      <td>simulated_implant</td>\n",
       "    </tr>\n",
       "    <tr>\n",
       "      <th>8</th>\n",
       "      <td>0.0</td>\n",
       "      <td>8.0</td>\n",
       "      <td>0.0</td>\n",
       "      <td>NaN</td>\n",
       "      <td>unknown</td>\n",
       "      <td>none</td>\n",
       "      <td>\\nsimulated_implant &lt;class 'pynwb.ecephys.Elec...</td>\n",
       "      <td>simulated_implant</td>\n",
       "    </tr>\n",
       "    <tr>\n",
       "      <th>9</th>\n",
       "      <td>0.0</td>\n",
       "      <td>9.0</td>\n",
       "      <td>0.0</td>\n",
       "      <td>NaN</td>\n",
       "      <td>unknown</td>\n",
       "      <td>none</td>\n",
       "      <td>\\nsimulated_implant &lt;class 'pynwb.ecephys.Elec...</td>\n",
       "      <td>simulated_implant</td>\n",
       "    </tr>\n",
       "    <tr>\n",
       "      <th>10</th>\n",
       "      <td>0.0</td>\n",
       "      <td>10.0</td>\n",
       "      <td>0.0</td>\n",
       "      <td>NaN</td>\n",
       "      <td>unknown</td>\n",
       "      <td>none</td>\n",
       "      <td>\\nsimulated_implant &lt;class 'pynwb.ecephys.Elec...</td>\n",
       "      <td>simulated_implant</td>\n",
       "    </tr>\n",
       "    <tr>\n",
       "      <th>11</th>\n",
       "      <td>0.0</td>\n",
       "      <td>11.0</td>\n",
       "      <td>0.0</td>\n",
       "      <td>NaN</td>\n",
       "      <td>unknown</td>\n",
       "      <td>none</td>\n",
       "      <td>\\nsimulated_implant &lt;class 'pynwb.ecephys.Elec...</td>\n",
       "      <td>simulated_implant</td>\n",
       "    </tr>\n",
       "    <tr>\n",
       "      <th>12</th>\n",
       "      <td>0.0</td>\n",
       "      <td>12.0</td>\n",
       "      <td>0.0</td>\n",
       "      <td>NaN</td>\n",
       "      <td>unknown</td>\n",
       "      <td>none</td>\n",
       "      <td>\\nsimulated_implant &lt;class 'pynwb.ecephys.Elec...</td>\n",
       "      <td>simulated_implant</td>\n",
       "    </tr>\n",
       "    <tr>\n",
       "      <th>13</th>\n",
       "      <td>0.0</td>\n",
       "      <td>13.0</td>\n",
       "      <td>0.0</td>\n",
       "      <td>NaN</td>\n",
       "      <td>unknown</td>\n",
       "      <td>none</td>\n",
       "      <td>\\nsimulated_implant &lt;class 'pynwb.ecephys.Elec...</td>\n",
       "      <td>simulated_implant</td>\n",
       "    </tr>\n",
       "  </tbody>\n",
       "</table>\n",
       "</div>"
      ],
      "text/plain": [
       "      x     y    z  imp location filtering  \\\n",
       "id                                           \n",
       "0   0.0   0.0  0.0  NaN  unknown      none   \n",
       "1   0.0   1.0  0.0  NaN  unknown      none   \n",
       "2   0.0   2.0  0.0  NaN  unknown      none   \n",
       "3   0.0   3.0  0.0  NaN  unknown      none   \n",
       "4   0.0   4.0  0.0  NaN  unknown      none   \n",
       "5   0.0   5.0  0.0  NaN  unknown      none   \n",
       "6   0.0   6.0  0.0  NaN  unknown      none   \n",
       "7   0.0   7.0  0.0  NaN  unknown      none   \n",
       "8   0.0   8.0  0.0  NaN  unknown      none   \n",
       "9   0.0   9.0  0.0  NaN  unknown      none   \n",
       "10  0.0  10.0  0.0  NaN  unknown      none   \n",
       "11  0.0  11.0  0.0  NaN  unknown      none   \n",
       "12  0.0  12.0  0.0  NaN  unknown      none   \n",
       "13  0.0  13.0  0.0  NaN  unknown      none   \n",
       "\n",
       "                                                group         group_name  \n",
       "id                                                                        \n",
       "0   \\nsimulated_implant <class 'pynwb.ecephys.Elec...  simulated_implant  \n",
       "1   \\nsimulated_implant <class 'pynwb.ecephys.Elec...  simulated_implant  \n",
       "2   \\nsimulated_implant <class 'pynwb.ecephys.Elec...  simulated_implant  \n",
       "3   \\nsimulated_implant <class 'pynwb.ecephys.Elec...  simulated_implant  \n",
       "4   \\nsimulated_implant <class 'pynwb.ecephys.Elec...  simulated_implant  \n",
       "5   \\nsimulated_implant <class 'pynwb.ecephys.Elec...  simulated_implant  \n",
       "6   \\nsimulated_implant <class 'pynwb.ecephys.Elec...  simulated_implant  \n",
       "7   \\nsimulated_implant <class 'pynwb.ecephys.Elec...  simulated_implant  \n",
       "8   \\nsimulated_implant <class 'pynwb.ecephys.Elec...  simulated_implant  \n",
       "9   \\nsimulated_implant <class 'pynwb.ecephys.Elec...  simulated_implant  \n",
       "10  \\nsimulated_implant <class 'pynwb.ecephys.Elec...  simulated_implant  \n",
       "11  \\nsimulated_implant <class 'pynwb.ecephys.Elec...  simulated_implant  \n",
       "12  \\nsimulated_implant <class 'pynwb.ecephys.Elec...  simulated_implant  \n",
       "13  \\nsimulated_implant <class 'pynwb.ecephys.Elec...  simulated_implant  "
      ]
     },
     "execution_count": 10,
     "metadata": {},
     "output_type": "execute_result"
    }
   ],
   "source": [
    "nwb.electrodes.to_dataframe()"
   ]
  },
  {
   "cell_type": "markdown",
   "metadata": {},
   "source": [
    "As we saw above the data is stored in acquisitions"
   ]
  },
  {
   "cell_type": "code",
   "execution_count": 11,
   "metadata": {},
   "outputs": [
    {
     "data": {
      "text/plain": [
       "\n",
       "ElectricalSeries <class 'pynwb.ecephys.ElectricalSeries'>\n",
       "Fields:\n",
       "  comments: no comments\n",
       "  conversion: 1.0\n",
       "  data: <HDF5 dataset \"data\": shape (1000, 15), type \"<f8\">\n",
       "  description: no description\n",
       "  electrodes: electrodes <class 'pynwb.core.DynamicTableRegion'>\n",
       "  num_samples: 1000\n",
       "  rate: 10000.0\n",
       "  resolution: 0.0\n",
       "  starting_time: 0.0\n",
       "  starting_time_unit: Seconds\n",
       "  unit: volt"
      ]
     },
     "execution_count": 11,
     "metadata": {},
     "output_type": "execute_result"
    }
   ],
   "source": [
    "ecp_report = nwb.acquisition['ElectricalSeries']\n",
    "ecp_report"
   ]
  },
  {
   "cell_type": "code",
   "execution_count": 12,
   "metadata": {},
   "outputs": [
    {
     "data": {
      "text/plain": [
       "array([[0.57293099, 0.76930203, 0.88071005, ..., 0.70047962, 0.28730622,\n",
       "        0.96992367],\n",
       "       [0.15170223, 0.68863223, 0.44048643, ..., 0.61865637, 0.38654594,\n",
       "        0.18701311],\n",
       "       [0.9690474 , 0.52246217, 0.23944365, ..., 0.61955686, 0.86474007,\n",
       "        0.48352767],\n",
       "       ...,\n",
       "       [0.56341004, 0.31859838, 0.00289707, ..., 0.52821551, 0.02956707,\n",
       "        0.34990551],\n",
       "       [0.64309011, 0.8716774 , 0.20747117, ..., 0.6707939 , 0.05339673,\n",
       "        0.91099735],\n",
       "       [0.27379172, 0.70690807, 0.02127752, ..., 0.48369901, 0.8738186 ,\n",
       "        0.14116656]])"
      ]
     },
     "execution_count": 12,
     "metadata": {},
     "output_type": "execute_result"
    }
   ],
   "source": [
    "ecp_report.data[()]"
   ]
  },
  {
   "cell_type": "code",
   "execution_count": null,
   "metadata": {},
   "outputs": [],
   "source": []
  }
 ],
 "metadata": {
  "kernelspec": {
   "display_name": "Python 3",
   "language": "python",
   "name": "python3"
  },
  "language_info": {
   "codemirror_mode": {
    "name": "ipython",
    "version": 3
   },
   "file_extension": ".py",
   "mimetype": "text/x-python",
   "name": "python",
   "nbconvert_exporter": "python",
   "pygments_lexer": "ipython3",
   "version": "3.6.8"
  }
 },
 "nbformat": 4,
 "nbformat_minor": 2
}

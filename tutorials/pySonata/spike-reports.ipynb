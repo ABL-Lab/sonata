{
 "cells": [
  {
   "cell_type": "markdown",
   "metadata": {},
   "source": [
    "# SONATA Spike Train Reports\n",
    "\n",
    "Spike-train reports are a hdf5 based format for representing neuronal spikes in a manner optimized for large-scale simulations. pySonata includes classes for creating these reports and reading them into your own code."
   ]
  },
  {
   "cell_type": "code",
   "execution_count": 1,
   "metadata": {
    "scrolled": true
   },
   "outputs": [],
   "source": [
    "import numpy as np\n",
    "\n",
    "from sonata.reports.spike_trains import SpikeTrains, sort_order, PoissonSpikeGenerator"
   ]
  },
  {
   "cell_type": "markdown",
   "metadata": {},
   "source": [
    "## Saving Spiking information"
   ]
  },
  {
   "cell_type": "markdown",
   "metadata": {},
   "source": [
    "We start by showing how to create a sonata file for storing spike trains of multi-neuron populations. \n",
    "\n",
    "Once we initalized a SpikeTrains object we start by adding individual spiking events. To represent a spike we need three things; the id of the node (eg cell) that spikes, the name of the population (in this case the area of the brain where the node came from), and the time of the spike. By default Sonata assumes the units are in miliseconds but that can be changed in the format.\n",
    "\n",
    "To add an individual spike we can use the **add_spike** method"
   ]
  },
  {
   "cell_type": "code",
   "execution_count": 2,
   "metadata": {},
   "outputs": [],
   "source": [
    "st_buffer = SpikeTrains()\n",
    "st_buffer.add_spike(node_id=0, timestamp=1.0, population='VTA')\n",
    "st_buffer.add_spike(node_id=0, timestamp=23.0, population='VTA')\n",
    "st_buffer.add_spike(node_id=0, timestamp=50.1, population='VTA')\n"
   ]
  },
  {
   "cell_type": "markdown",
   "metadata": {},
   "source": [
    "The **add_spikes** emthod allow us to save an array of spikes at a time."
   ]
  },
  {
   "cell_type": "code",
   "execution_count": 3,
   "metadata": {},
   "outputs": [],
   "source": [
    "# By setting node_ids to a single node value, all 10 spikes will be associated with node 1.\n",
    "times = np.sort(np.random.uniform(0.01, 1000.0, size=10))\n",
    "st_buffer.add_spikes(node_ids=1, timestamps=times, population='VTA')"
   ]
  },
  {
   "cell_type": "code",
   "execution_count": 4,
   "metadata": {},
   "outputs": [],
   "source": [
    "# We can also pass in a list of nodes that is the same size as the list of spikes, creating a one-to-one correspondence\n",
    "node_ids = np.random.choice([2, 3, 4, 5], size=100, replace=True)\n",
    "timestamps = np.random.uniform(0.01, 1000.0, size=100)\n",
    "st_buffer.add_spikes(node_ids=node_ids, timestamps=timestamps, population='VTA')"
   ]
  },
  {
   "cell_type": "markdown",
   "metadata": {},
   "source": [
    "Often in simulations we are recording from cells from different populations/areas. By specifying a different population we prevent id clashes."
   ]
  },
  {
   "cell_type": "code",
   "execution_count": 5,
   "metadata": {},
   "outputs": [],
   "source": [
    "st_buffer.add_spikes(node_ids=0, timestamps=np.random.uniform(0.01, 1000.0, size=10), population='PFC')"
   ]
  },
  {
   "cell_type": "markdown",
   "metadata": {},
   "source": [
    "Finally we save our spikes to an hdf5 file in the specified SONATA format. Use the *sort_order* attribute to sort the spikes by time (*sort_order.by_time*) or by node_id (*sort_order.by_id*). If *sort_order* is left blank or set to *sort_order.unknown* the spikes will be saved in the same order they were inserted. "
   ]
  },
  {
   "cell_type": "code",
   "execution_count": 6,
   "metadata": {},
   "outputs": [],
   "source": [
    "st_buffer.to_sonata('output/recorded_spiketimes.h5', sort_order=sort_order.by_time)"
   ]
  },
  {
   "cell_type": "markdown",
   "metadata": {},
   "source": [
    "# Poission distributed spike reports\n",
    "\n",
    "pySonata also includes special tools for creating spike-train reports using a predefine distributions. Below we create a sonata file that creates a population of 100 nodes, each firing with "
   ]
  },
  {
   "cell_type": "code",
   "execution_count": 7,
   "metadata": {},
   "outputs": [],
   "source": [
    "psg = PoissonSpikeGenerator()\n",
    "psg.add(node_ids=range(0, 100), firing_rate=15.0, times=(0.0, 3.0), population='const')\n"
   ]
  },
  {
   "cell_type": "markdown",
   "metadata": {},
   "source": [
    "We can also create a non-homogeneous poission distribution by passing in a list of rates (make sure that the rates are always non-negative), here we generate a second population where the nodes vary across the recorded time"
   ]
  },
  {
   "cell_type": "code",
   "execution_count": 8,
   "metadata": {},
   "outputs": [],
   "source": [
    "times = np.linspace(0, 3.0, 1000)\n",
    "rates = 15.0 + 15.0*np.sin(times)\n",
    "\n",
    "psg.add(node_ids=range(0, 100), firing_rate=rates, times=times, population='sinosodial')"
   ]
  },
  {
   "cell_type": "code",
   "execution_count": 9,
   "metadata": {},
   "outputs": [],
   "source": [
    "psg.to_sonata('output/poisson_spikes.h5')"
   ]
  },
  {
   "cell_type": "markdown",
   "metadata": {},
   "source": [
    "## Extra Options\n",
    "\n",
    "### Working with single population\n",
    "\n",
    "More often then not there is only a single node-population that is being recorded from and having to specify the *population* becomes burdensome. Use the *default_population* parameter so that whenever calling add_spike(s) methods you can ignore the population.\n",
    "\n",
    "```python\n",
    "st_buffer = SpikeTrains(default_population='VTA')\n",
    "st_buffer.add_spike(node_id=0, timestamp=1.0)\n",
    "...\n",
    "```\n",
    "\n",
    "\n"
   ]
  },
  {
   "cell_type": "markdown",
   "metadata": {},
   "source": [
    "### Excessively large spike trains\n",
    "\n",
    "pySonata tries to be as memory efficent as it can, however sometimes during a very active simulation with millions of cells there are too many spikes to save in memory. For large simulations ran on machines with limited memory use the *cache_dir* parameter to have spikes temporarly saved to disk preventing out-of-memory errors (but expected a slow-down).\n",
    "\n",
    "```python\n",
    "st_buffer = SpikeTrains(cache_dir='output/tmp_spikes')\n",
    "...\n",
    "```"
   ]
  },
  {
   "cell_type": "markdown",
   "metadata": {},
   "source": [
    "### Parallelized simulations\n",
    "\n",
    "If MPI is installed, you can split the creation of the spike-reports file across different nodes on a multi-core cluster. Initializing and saving the spikes are the same as above, and only the calls to add_spike(s) are distributed among the different cores:\n",
    "\n",
    "```python\n",
    "from mpi4py import MPI\n",
    "rank = MPI.COMM_WORLD.comm.Get_rank()\n",
    "\n",
    "st_buffer = SpikeTrains(default_population='hpc')\n",
    "if rank == 0:\n",
    "    st_buffer.add_spikes(node_ids=0, timestamps=np.linspace(0, 1.0, 20))\n",
    "else:\n",
    "    st_buffer.add_spikes(node_ids=rank, timestamps=np.random.uniform(1.0, 2.0, size=20))\n",
    "\n",
    "st_buffer.to_sontat('hpc_spikes.h5')\n",
    "```"
   ]
  },
  {
   "cell_type": "markdown",
   "metadata": {},
   "source": [
    "# Reading Sonata Reports\n",
    "\n",
    "Now that we have a SONATA file containing spike-trains we can read it in using the **from_sonata** method and use the **populations** property to see what node populations exists in the file"
   ]
  },
  {
   "cell_type": "code",
   "execution_count": 10,
   "metadata": {},
   "outputs": [
    {
     "name": "stdout",
     "output_type": "stream",
     "text": [
      "['PFC', 'VTA']\n"
     ]
    }
   ],
   "source": [
    "spikes = SpikeTrains.from_sonata('output/recorded_spiketimes.h5')\n",
    "print(spikes.populations)"
   ]
  },
  {
   "cell_type": "code",
   "execution_count": 11,
   "metadata": {},
   "outputs": [
    {
     "data": {
      "text/plain": [
       "[('VTA', 0), ('VTA', 1), ('VTA', 2), ('VTA', 3), ('VTA', 4), ('VTA', 5)]"
      ]
     },
     "execution_count": 11,
     "metadata": {},
     "output_type": "execute_result"
    }
   ],
   "source": [
    "# Get the node_ids associated with the 'VTA' population\n",
    "spikes.nodes('VTA')"
   ]
  },
  {
   "cell_type": "code",
   "execution_count": 12,
   "metadata": {},
   "outputs": [
    {
     "data": {
      "text/plain": [
       "(1.0, 998.577274718506)"
      ]
     },
     "execution_count": 12,
     "metadata": {},
     "output_type": "execute_result"
    }
   ],
   "source": [
    "# find the first and last spike time\n",
    "spikes.time_range('VTA')"
   ]
  },
  {
   "cell_type": "code",
   "execution_count": 13,
   "metadata": {},
   "outputs": [
    {
     "data": {
      "text/plain": [
       "113"
      ]
     },
     "execution_count": 13,
     "metadata": {},
     "output_type": "execute_result"
    }
   ],
   "source": [
    "# get number of spikes generated by VTA neurons\n",
    "spikes.n_spikes('VTA')"
   ]
  },
  {
   "cell_type": "markdown",
   "metadata": {},
   "source": [
    "There are a couple of ways to fetch the spikes in the file."
   ]
  },
  {
   "cell_type": "code",
   "execution_count": 14,
   "metadata": {},
   "outputs": [
    {
     "data": {
      "text/html": [
       "<div>\n",
       "<style scoped>\n",
       "    .dataframe tbody tr th:only-of-type {\n",
       "        vertical-align: middle;\n",
       "    }\n",
       "\n",
       "    .dataframe tbody tr th {\n",
       "        vertical-align: top;\n",
       "    }\n",
       "\n",
       "    .dataframe thead th {\n",
       "        text-align: right;\n",
       "    }\n",
       "</style>\n",
       "<table border=\"1\" class=\"dataframe\">\n",
       "  <thead>\n",
       "    <tr style=\"text-align: right;\">\n",
       "      <th></th>\n",
       "      <th>timestamps</th>\n",
       "      <th>population</th>\n",
       "      <th>node_ids</th>\n",
       "    </tr>\n",
       "  </thead>\n",
       "  <tbody>\n",
       "    <tr>\n",
       "      <td>0</td>\n",
       "      <td>10.223972</td>\n",
       "      <td>PFC</td>\n",
       "      <td>0</td>\n",
       "    </tr>\n",
       "    <tr>\n",
       "      <td>1</td>\n",
       "      <td>31.314021</td>\n",
       "      <td>PFC</td>\n",
       "      <td>0</td>\n",
       "    </tr>\n",
       "    <tr>\n",
       "      <td>2</td>\n",
       "      <td>321.767321</td>\n",
       "      <td>PFC</td>\n",
       "      <td>0</td>\n",
       "    </tr>\n",
       "    <tr>\n",
       "      <td>3</td>\n",
       "      <td>519.829548</td>\n",
       "      <td>PFC</td>\n",
       "      <td>0</td>\n",
       "    </tr>\n",
       "    <tr>\n",
       "      <td>4</td>\n",
       "      <td>527.461104</td>\n",
       "      <td>PFC</td>\n",
       "      <td>0</td>\n",
       "    </tr>\n",
       "    <tr>\n",
       "      <td>...</td>\n",
       "      <td>...</td>\n",
       "      <td>...</td>\n",
       "      <td>...</td>\n",
       "    </tr>\n",
       "    <tr>\n",
       "      <td>108</td>\n",
       "      <td>951.224733</td>\n",
       "      <td>VTA</td>\n",
       "      <td>1</td>\n",
       "    </tr>\n",
       "    <tr>\n",
       "      <td>109</td>\n",
       "      <td>959.576032</td>\n",
       "      <td>VTA</td>\n",
       "      <td>2</td>\n",
       "    </tr>\n",
       "    <tr>\n",
       "      <td>110</td>\n",
       "      <td>990.913587</td>\n",
       "      <td>VTA</td>\n",
       "      <td>5</td>\n",
       "    </tr>\n",
       "    <tr>\n",
       "      <td>111</td>\n",
       "      <td>996.774510</td>\n",
       "      <td>VTA</td>\n",
       "      <td>3</td>\n",
       "    </tr>\n",
       "    <tr>\n",
       "      <td>112</td>\n",
       "      <td>998.577275</td>\n",
       "      <td>VTA</td>\n",
       "      <td>5</td>\n",
       "    </tr>\n",
       "  </tbody>\n",
       "</table>\n",
       "<p>123 rows × 3 columns</p>\n",
       "</div>"
      ],
      "text/plain": [
       "     timestamps population  node_ids\n",
       "0     10.223972        PFC         0\n",
       "1     31.314021        PFC         0\n",
       "2    321.767321        PFC         0\n",
       "3    519.829548        PFC         0\n",
       "4    527.461104        PFC         0\n",
       "..          ...        ...       ...\n",
       "108  951.224733        VTA         1\n",
       "109  959.576032        VTA         2\n",
       "110  990.913587        VTA         5\n",
       "111  996.774510        VTA         3\n",
       "112  998.577275        VTA         5\n",
       "\n",
       "[123 rows x 3 columns]"
      ]
     },
     "execution_count": 14,
     "metadata": {},
     "output_type": "execute_result"
    }
   ],
   "source": [
    "# Returns all spikes as a dataframe\n",
    "spikes.to_dataframe()"
   ]
  },
  {
   "cell_type": "code",
   "execution_count": 15,
   "metadata": {},
   "outputs": [
    {
     "data": {
      "text/plain": [
       "array([ 1. , 23. , 50.1])"
      ]
     },
     "execution_count": 15,
     "metadata": {},
     "output_type": "execute_result"
    }
   ],
   "source": [
    "# get the spikes on for VTA node 0.\n",
    "spikes.get_times(node_id=0, population='VTA')"
   ]
  },
  {
   "cell_type": "code",
   "execution_count": 16,
   "metadata": {},
   "outputs": [
    {
     "name": "stdout",
     "output_type": "stream",
     "text": [
      "10.223972437418363 PFC 0\n",
      "31.314020820945807 PFC 0\n",
      "321.76732088069923 PFC 0\n",
      "519.829548301087 PFC 0\n",
      "527.4611037022787 PFC 0\n",
      "539.3758044306155 PFC 0\n",
      "597.786106804225 PFC 0\n",
      "726.2885222706249 PFC 0\n",
      "729.1906360853453 PFC 0\n",
      "860.6247226603169 PFC 0\n"
     ]
    }
   ],
   "source": [
    "# spikes is a generator method usefull for analyzing very large spike files.\n",
    "for time, pop, node_id in spikes.spikes(populations='PFC'):\n",
    "    print(time, pop, node_id)"
   ]
  },
  {
   "cell_type": "code",
   "execution_count": null,
   "metadata": {},
   "outputs": [],
   "source": []
  }
 ],
 "metadata": {
  "kernelspec": {
   "display_name": "Python [conda env:sonata-py37]",
   "language": "python",
   "name": "conda-env-sonata-py37-py"
  },
  "language_info": {
   "codemirror_mode": {
    "name": "ipython",
    "version": 3
   },
   "file_extension": ".py",
   "mimetype": "text/x-python",
   "name": "python",
   "nbconvert_exporter": "python",
   "pygments_lexer": "ipython3",
   "version": "3.7.4"
  }
 },
 "nbformat": 4,
 "nbformat_minor": 2
}
